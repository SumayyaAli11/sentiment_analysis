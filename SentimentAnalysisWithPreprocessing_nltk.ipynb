{
 "cells": [
  {
   "cell_type": "markdown",
   "id": "c345c904",
   "metadata": {},
   "source": [
    "# Sentiment Analysis in Python\n",
    "\n",
    "In this notebook we will be doing some sentiment analysis in python using two different techniques:\n",
    "1. VADER (Valence Aware Dictionary and sEntiment Reasoner) - Bag of words approach\n",
    "2. Machine Learning Approach"
   ]
  },
  {
   "cell_type": "markdown",
   "id": "1ccac9f3",
   "metadata": {},
   "source": [
    "<h3 >Import the relevant libraries</h3>"
   ]
  },
  {
   "cell_type": "code",
   "execution_count": 1,
   "id": "0bfb64d0",
   "metadata": {},
   "outputs": [],
   "source": [
    "import numpy as np\n",
    "import pandas as pd\n",
    "import matplotlib.pyplot as plt\n",
    "import seaborn as sns\n",
    "plt.style.use('ggplot')"
   ]
  },
  {
   "cell_type": "code",
   "execution_count": 2,
   "id": "345b14bc",
   "metadata": {},
   "outputs": [],
   "source": [
    "import nltk"
   ]
  },
  {
   "cell_type": "markdown",
   "id": "71db542b",
   "metadata": {},
   "source": [
    "### Import the dataset"
   ]
  },
  {
   "cell_type": "code",
   "execution_count": 3,
   "id": "2b0f41cc",
   "metadata": {},
   "outputs": [],
   "source": [
    "df=pd.read_csv(\"output.csv\")"
   ]
  },
  {
   "cell_type": "code",
   "execution_count": 4,
   "id": "c74ec5fa",
   "metadata": {},
   "outputs": [
    {
     "data": {
      "text/plain": [
       "'If I  could give this location a zero on customer service, I  would. Pulled into drive through at 8:07 and placed a simple order. I order a regular hamburg and cookies. Once I paid and pulled up to the window to pick up, I  was told to pull up to the #1 space. I sat there and sat there and.........25 minutes later, no order. I  went in and no one was at the counter. I yelled \"hello\" three times. A young lady came up asking who was handling the front counter. A young girl appeared. To make this complaint shorter, I  showed my receipt and another 5 minutes later I got my order. There was another order with a drink sitting on the counter that never got to the person who ordered it. After getting home, I  had no regular hamburg but had cookies. Everyone, don\\'t even bother going to this location again. It\\'s a horrible experience every time as you can see by other reviews.'"
      ]
     },
     "execution_count": 4,
     "metadata": {},
     "output_type": "execute_result"
    }
   ],
   "source": [
    "df['review'][6]"
   ]
  },
  {
   "cell_type": "code",
   "execution_count": 5,
   "id": "2648256a",
   "metadata": {},
   "outputs": [
    {
     "data": {
      "text/plain": [
       "(33396, 10)"
      ]
     },
     "execution_count": 5,
     "metadata": {},
     "output_type": "execute_result"
    }
   ],
   "source": [
    "df.shape"
   ]
  },
  {
   "cell_type": "code",
   "execution_count": 6,
   "id": "8326b63d",
   "metadata": {},
   "outputs": [
    {
     "data": {
      "text/plain": [
       "(10000, 10)"
      ]
     },
     "execution_count": 6,
     "metadata": {},
     "output_type": "execute_result"
    }
   ],
   "source": [
    "df=df.head(10000)\n",
    "df.shape"
   ]
  },
  {
   "cell_type": "markdown",
   "id": "9117f441",
   "metadata": {},
   "source": [
    "#                                       Text Preprocessing steps\n",
    "\n",
    "## 1. Converting to Lower case"
   ]
  },
  {
   "cell_type": "code",
   "execution_count": 7,
   "id": "fc489fc1",
   "metadata": {},
   "outputs": [],
   "source": [
    "df['review']=df['review'].str.lower()"
   ]
  },
  {
   "cell_type": "code",
   "execution_count": 8,
   "id": "b1dc6216",
   "metadata": {},
   "outputs": [
    {
     "data": {
      "text/plain": [
       "'if i  could give this location a zero on customer service, i  would. pulled into drive through at 8:07 and placed a simple order. i order a regular hamburg and cookies. once i paid and pulled up to the window to pick up, i  was told to pull up to the #1 space. i sat there and sat there and.........25 minutes later, no order. i  went in and no one was at the counter. i yelled \"hello\" three times. a young lady came up asking who was handling the front counter. a young girl appeared. to make this complaint shorter, i  showed my receipt and another 5 minutes later i got my order. there was another order with a drink sitting on the counter that never got to the person who ordered it. after getting home, i  had no regular hamburg but had cookies. everyone, don\\'t even bother going to this location again. it\\'s a horrible experience every time as you can see by other reviews.'"
      ]
     },
     "execution_count": 8,
     "metadata": {},
     "output_type": "execute_result"
    }
   ],
   "source": [
    "\n",
    "df['review'][6]"
   ]
  },
  {
   "cell_type": "markdown",
   "id": "695cf63d",
   "metadata": {},
   "source": [
    "##  2. Removing HTML Tags"
   ]
  },
  {
   "cell_type": "code",
   "execution_count": 9,
   "id": "af2baa63",
   "metadata": {},
   "outputs": [],
   "source": [
    "import re"
   ]
  },
  {
   "cell_type": "code",
   "execution_count": 10,
   "id": "e8d1f611",
   "metadata": {},
   "outputs": [],
   "source": [
    "def clean_html(text):\n",
    "    clean=re.compile('<.*?>')\n",
    "    return re.sub(clean,'',text)"
   ]
  },
  {
   "cell_type": "code",
   "execution_count": 11,
   "id": "fd2125b9",
   "metadata": {},
   "outputs": [],
   "source": [
    "df['review']=df['review'].apply(clean_html)"
   ]
  },
  {
   "cell_type": "code",
   "execution_count": 12,
   "id": "c1339398",
   "metadata": {},
   "outputs": [
    {
     "data": {
      "text/plain": [
       "\"it'd mcdonalds. it is what it is as far as the food and atmosphere go. the staff here does make a difference. they are all friendly, accommodating and always smiling. makes for a more pleasant experience than many other fast food places.\""
      ]
     },
     "execution_count": 12,
     "metadata": {},
     "output_type": "execute_result"
    }
   ],
   "source": [
    "df['review'][1]"
   ]
  },
  {
   "cell_type": "markdown",
   "id": "76359de0",
   "metadata": {},
   "source": [
    "## 3. Remove Punctuation"
   ]
  },
  {
   "cell_type": "code",
   "execution_count": 13,
   "id": "3549ee2c",
   "metadata": {},
   "outputs": [
    {
     "data": {
      "text/plain": [
       "0       why does it look like someone spit on my food?...\n",
       "1       it'd mcdonalds. it is what it is as far as the...\n",
       "2       made a mobile order got to the speaker and che...\n",
       "3       my mc. crispy chicken sandwich was ï¿½ï¿½ï¿½ï¿...\n",
       "4       i repeat my order 3 times in the drive thru, a...\n",
       "                              ...                        \n",
       "9995                                                good \n",
       "9996                                           excellent \n",
       "9997                                             terrible\n",
       "9998                                              neutral\n",
       "9999                                              neutral\n",
       "Name: review, Length: 10000, dtype: object"
      ]
     },
     "execution_count": 13,
     "metadata": {},
     "output_type": "execute_result"
    }
   ],
   "source": [
    "df['review']"
   ]
  },
  {
   "cell_type": "code",
   "execution_count": 14,
   "id": "9adcfbde",
   "metadata": {},
   "outputs": [],
   "source": [
    "import string"
   ]
  },
  {
   "cell_type": "code",
   "execution_count": 15,
   "id": "58976465",
   "metadata": {},
   "outputs": [
    {
     "data": {
      "text/plain": [
       "'!\"#$%&\\'()*+,-./:;<=>?@[\\\\]^_`{|}~'"
      ]
     },
     "execution_count": 15,
     "metadata": {},
     "output_type": "execute_result"
    }
   ],
   "source": [
    "string.punctuation"
   ]
  },
  {
   "cell_type": "code",
   "execution_count": 16,
   "id": "d0e30858",
   "metadata": {},
   "outputs": [],
   "source": [
    "exclude=string.punctuation\n",
    "def remove_punc(text):\n",
    "    return text.translate(str.maketrans('','',exclude))"
   ]
  },
  {
   "cell_type": "code",
   "execution_count": 17,
   "id": "661ab812",
   "metadata": {},
   "outputs": [],
   "source": [
    "df['review']=df['review'].apply(remove_punc)"
   ]
  },
  {
   "cell_type": "code",
   "execution_count": 18,
   "id": "b913386a",
   "metadata": {},
   "outputs": [
    {
     "data": {
      "text/plain": [
       "'if i  could give this location a zero on customer service i  would pulled into drive through at 807 and placed a simple order i order a regular hamburg and cookies once i paid and pulled up to the window to pick up i  was told to pull up to the 1 space i sat there and sat there and25 minutes later no order i  went in and no one was at the counter i yelled hello three times a young lady came up asking who was handling the front counter a young girl appeared to make this complaint shorter i  showed my receipt and another 5 minutes later i got my order there was another order with a drink sitting on the counter that never got to the person who ordered it after getting home i  had no regular hamburg but had cookies everyone dont even bother going to this location again its a horrible experience every time as you can see by other reviews'"
      ]
     },
     "execution_count": 18,
     "metadata": {},
     "output_type": "execute_result"
    }
   ],
   "source": [
    "df['review'][6]"
   ]
  },
  {
   "cell_type": "markdown",
   "id": "61c95121",
   "metadata": {},
   "source": [
    "## 4. Removing stop words"
   ]
  },
  {
   "cell_type": "code",
   "execution_count": 19,
   "id": "d8839416",
   "metadata": {},
   "outputs": [],
   "source": [
    "from nltk.corpus import stopwords"
   ]
  },
  {
   "cell_type": "code",
   "execution_count": 20,
   "id": "f75ead88",
   "metadata": {},
   "outputs": [
    {
     "name": "stdout",
     "output_type": "stream",
     "text": [
      "showing info https://raw.githubusercontent.com/nltk/nltk_data/gh-pages/index.xml\n"
     ]
    },
    {
     "data": {
      "text/plain": [
       "True"
      ]
     },
     "execution_count": 20,
     "metadata": {},
     "output_type": "execute_result"
    }
   ],
   "source": [
    "nltk.download()"
   ]
  },
  {
   "cell_type": "code",
   "execution_count": 21,
   "id": "a509e63f",
   "metadata": {},
   "outputs": [
    {
     "name": "stderr",
     "output_type": "stream",
     "text": [
      "[nltk_data] Downloading package stopwords to\n",
      "[nltk_data]     C:\\Users\\ws\\AppData\\Roaming\\nltk_data...\n",
      "[nltk_data]   Package stopwords is already up-to-date!\n"
     ]
    },
    {
     "data": {
      "text/plain": [
       "['i',\n",
       " 'me',\n",
       " 'my',\n",
       " 'myself',\n",
       " 'we',\n",
       " 'our',\n",
       " 'ours',\n",
       " 'ourselves',\n",
       " 'you',\n",
       " \"you're\",\n",
       " \"you've\",\n",
       " \"you'll\",\n",
       " \"you'd\",\n",
       " 'your',\n",
       " 'yours',\n",
       " 'yourself',\n",
       " 'yourselves',\n",
       " 'he',\n",
       " 'him',\n",
       " 'his',\n",
       " 'himself',\n",
       " 'she',\n",
       " \"she's\",\n",
       " 'her',\n",
       " 'hers',\n",
       " 'herself',\n",
       " 'it',\n",
       " \"it's\",\n",
       " 'its',\n",
       " 'itself',\n",
       " 'they',\n",
       " 'them',\n",
       " 'their',\n",
       " 'theirs',\n",
       " 'themselves',\n",
       " 'what',\n",
       " 'which',\n",
       " 'who',\n",
       " 'whom',\n",
       " 'this',\n",
       " 'that',\n",
       " \"that'll\",\n",
       " 'these',\n",
       " 'those',\n",
       " 'am',\n",
       " 'is',\n",
       " 'are',\n",
       " 'was',\n",
       " 'were',\n",
       " 'be',\n",
       " 'been',\n",
       " 'being',\n",
       " 'have',\n",
       " 'has',\n",
       " 'had',\n",
       " 'having',\n",
       " 'do',\n",
       " 'does',\n",
       " 'did',\n",
       " 'doing',\n",
       " 'a',\n",
       " 'an',\n",
       " 'the',\n",
       " 'and',\n",
       " 'but',\n",
       " 'if',\n",
       " 'or',\n",
       " 'because',\n",
       " 'as',\n",
       " 'until',\n",
       " 'while',\n",
       " 'of',\n",
       " 'at',\n",
       " 'by',\n",
       " 'for',\n",
       " 'with',\n",
       " 'about',\n",
       " 'against',\n",
       " 'between',\n",
       " 'into',\n",
       " 'through',\n",
       " 'during',\n",
       " 'before',\n",
       " 'after',\n",
       " 'above',\n",
       " 'below',\n",
       " 'to',\n",
       " 'from',\n",
       " 'up',\n",
       " 'down',\n",
       " 'in',\n",
       " 'out',\n",
       " 'on',\n",
       " 'off',\n",
       " 'over',\n",
       " 'under',\n",
       " 'again',\n",
       " 'further',\n",
       " 'then',\n",
       " 'once',\n",
       " 'here',\n",
       " 'there',\n",
       " 'when',\n",
       " 'where',\n",
       " 'why',\n",
       " 'how',\n",
       " 'all',\n",
       " 'any',\n",
       " 'both',\n",
       " 'each',\n",
       " 'few',\n",
       " 'more',\n",
       " 'most',\n",
       " 'other',\n",
       " 'some',\n",
       " 'such',\n",
       " 'no',\n",
       " 'nor',\n",
       " 'not',\n",
       " 'only',\n",
       " 'own',\n",
       " 'same',\n",
       " 'so',\n",
       " 'than',\n",
       " 'too',\n",
       " 'very',\n",
       " 's',\n",
       " 't',\n",
       " 'can',\n",
       " 'will',\n",
       " 'just',\n",
       " 'don',\n",
       " \"don't\",\n",
       " 'should',\n",
       " \"should've\",\n",
       " 'now',\n",
       " 'd',\n",
       " 'll',\n",
       " 'm',\n",
       " 'o',\n",
       " 're',\n",
       " 've',\n",
       " 'y',\n",
       " 'ain',\n",
       " 'aren',\n",
       " \"aren't\",\n",
       " 'couldn',\n",
       " \"couldn't\",\n",
       " 'didn',\n",
       " \"didn't\",\n",
       " 'doesn',\n",
       " \"doesn't\",\n",
       " 'hadn',\n",
       " \"hadn't\",\n",
       " 'hasn',\n",
       " \"hasn't\",\n",
       " 'haven',\n",
       " \"haven't\",\n",
       " 'isn',\n",
       " \"isn't\",\n",
       " 'ma',\n",
       " 'mightn',\n",
       " \"mightn't\",\n",
       " 'mustn',\n",
       " \"mustn't\",\n",
       " 'needn',\n",
       " \"needn't\",\n",
       " 'shan',\n",
       " \"shan't\",\n",
       " 'shouldn',\n",
       " \"shouldn't\",\n",
       " 'wasn',\n",
       " \"wasn't\",\n",
       " 'weren',\n",
       " \"weren't\",\n",
       " 'won',\n",
       " \"won't\",\n",
       " 'wouldn',\n",
       " \"wouldn't\"]"
      ]
     },
     "execution_count": 21,
     "metadata": {},
     "output_type": "execute_result"
    }
   ],
   "source": [
    "nltk.download('stopwords')\n",
    "stopwords.words('english')"
   ]
  },
  {
   "cell_type": "code",
   "execution_count": 22,
   "id": "dd971c29",
   "metadata": {},
   "outputs": [],
   "source": [
    "def remove_stopwords(text):\n",
    "    x=[]\n",
    "    for word in text.split():\n",
    "        if word not in stopwords.words('english'):\n",
    "            x.append(word)\n",
    "    y=x[:]\n",
    "    x.clear()\n",
    "    return \" \".join(y)"
   ]
  },
  {
   "cell_type": "code",
   "execution_count": 23,
   "id": "d41c4a60",
   "metadata": {},
   "outputs": [],
   "source": [
    "df['review']=df['review'].apply(remove_stopwords)"
   ]
  },
  {
   "cell_type": "code",
   "execution_count": 24,
   "id": "7b94e901",
   "metadata": {
    "scrolled": true
   },
   "outputs": [
    {
     "data": {
      "text/plain": [
       "0       look like someone spit food normal transaction...\n",
       "1       itd mcdonalds far food atmosphere go staff mak...\n",
       "2       made mobile order got speaker checked line mov...\n",
       "3       mc crispy chicken sandwich ï¿½ï¿½ï¿½ï¿½ï¿½ï¿½ï...\n",
       "4       repeat order 3 times drive thru still manage m...\n",
       "                              ...                        \n",
       "9995                                                 good\n",
       "9996                                            excellent\n",
       "9997                                             terrible\n",
       "9998                                              neutral\n",
       "9999                                              neutral\n",
       "Name: review, Length: 10000, dtype: object"
      ]
     },
     "execution_count": 24,
     "metadata": {},
     "output_type": "execute_result"
    }
   ],
   "source": [
    "df['review']"
   ]
  },
  {
   "cell_type": "markdown",
   "id": "b17e0bd1",
   "metadata": {},
   "source": [
    "## 5. Stemming"
   ]
  },
  {
   "cell_type": "code",
   "execution_count": 25,
   "id": "2457752f",
   "metadata": {},
   "outputs": [],
   "source": [
    "from nltk.stem.porter import PorterStemmer"
   ]
  },
  {
   "cell_type": "code",
   "execution_count": 26,
   "id": "2c19bfa7",
   "metadata": {},
   "outputs": [],
   "source": [
    "ps=PorterStemmer()"
   ]
  },
  {
   "cell_type": "code",
   "execution_count": 27,
   "id": "d2839663",
   "metadata": {},
   "outputs": [],
   "source": [
    "def stem_words(text):\n",
    "    y=[]\n",
    "    for i in text.split():\n",
    "        y.append(ps.stem(i))\n",
    "    z=y[:]\n",
    "    y.clear()\n",
    "    return \" \".join(z)"
   ]
  },
  {
   "cell_type": "code",
   "execution_count": 28,
   "id": "6faceada",
   "metadata": {},
   "outputs": [],
   "source": [
    "df['review']=df['review'].apply(stem_words)"
   ]
  },
  {
   "cell_type": "code",
   "execution_count": 29,
   "id": "821ac250",
   "metadata": {},
   "outputs": [
    {
     "data": {
      "text/plain": [
       "'could give locat zero custom servic would pull drive 807 place simpl order order regular hamburg cooki paid pull window pick told pull 1 space sat sat and25 minut later order went one counter yell hello three time young ladi came ask handl front counter young girl appear make complaint shorter show receipt anoth 5 minut later got order anoth order drink sit counter never got person order get home regular hamburg cooki everyon dont even bother go locat horribl experi everi time see review'"
      ]
     },
     "execution_count": 29,
     "metadata": {},
     "output_type": "execute_result"
    }
   ],
   "source": [
    "df['review'][6]"
   ]
  },
  {
   "cell_type": "code",
   "execution_count": 30,
   "id": "36c9b8b1",
   "metadata": {},
   "outputs": [
    {
     "data": {
      "text/html": [
       "<div>\n",
       "<style scoped>\n",
       "    .dataframe tbody tr th:only-of-type {\n",
       "        vertical-align: middle;\n",
       "    }\n",
       "\n",
       "    .dataframe tbody tr th {\n",
       "        vertical-align: top;\n",
       "    }\n",
       "\n",
       "    .dataframe thead th {\n",
       "        text-align: right;\n",
       "    }\n",
       "</style>\n",
       "<table border=\"1\" class=\"dataframe\">\n",
       "  <thead>\n",
       "    <tr style=\"text-align: right;\">\n",
       "      <th></th>\n",
       "      <th>reviewer_id</th>\n",
       "      <th>store_name</th>\n",
       "      <th>category</th>\n",
       "      <th>store_address</th>\n",
       "      <th>latitude</th>\n",
       "      <th>longitude</th>\n",
       "      <th>rating_count</th>\n",
       "      <th>review_time</th>\n",
       "      <th>review</th>\n",
       "      <th>rating</th>\n",
       "    </tr>\n",
       "  </thead>\n",
       "  <tbody>\n",
       "    <tr>\n",
       "      <th>0</th>\n",
       "      <td>1</td>\n",
       "      <td>McDonald's</td>\n",
       "      <td>Fast food restaurant</td>\n",
       "      <td>13749 US-183 Hwy, Austin, TX 78750, United States</td>\n",
       "      <td>30.460718</td>\n",
       "      <td>-97.792874</td>\n",
       "      <td>1,240</td>\n",
       "      <td>3 months ago</td>\n",
       "      <td>look like someon spit food normal transact eve...</td>\n",
       "      <td>1 star</td>\n",
       "    </tr>\n",
       "    <tr>\n",
       "      <th>1</th>\n",
       "      <td>2</td>\n",
       "      <td>McDonald's</td>\n",
       "      <td>Fast food restaurant</td>\n",
       "      <td>13749 US-183 Hwy, Austin, TX 78750, United States</td>\n",
       "      <td>30.460718</td>\n",
       "      <td>-97.792874</td>\n",
       "      <td>1,240</td>\n",
       "      <td>5 days ago</td>\n",
       "      <td>itd mcdonald far food atmospher go staff make ...</td>\n",
       "      <td>4 stars</td>\n",
       "    </tr>\n",
       "    <tr>\n",
       "      <th>2</th>\n",
       "      <td>3</td>\n",
       "      <td>McDonald's</td>\n",
       "      <td>Fast food restaurant</td>\n",
       "      <td>13749 US-183 Hwy, Austin, TX 78750, United States</td>\n",
       "      <td>30.460718</td>\n",
       "      <td>-97.792874</td>\n",
       "      <td>1,240</td>\n",
       "      <td>5 days ago</td>\n",
       "      <td>made mobil order got speaker check line move l...</td>\n",
       "      <td>1 star</td>\n",
       "    </tr>\n",
       "    <tr>\n",
       "      <th>3</th>\n",
       "      <td>4</td>\n",
       "      <td>McDonald's</td>\n",
       "      <td>Fast food restaurant</td>\n",
       "      <td>13749 US-183 Hwy, Austin, TX 78750, United States</td>\n",
       "      <td>30.460718</td>\n",
       "      <td>-97.792874</td>\n",
       "      <td>1,240</td>\n",
       "      <td>a month ago</td>\n",
       "      <td>mc crispi chicken sandwich ï¿½ï¿½ï¿½ï¿½ï¿½ï¿½ï...</td>\n",
       "      <td>5 stars</td>\n",
       "    </tr>\n",
       "    <tr>\n",
       "      <th>4</th>\n",
       "      <td>5</td>\n",
       "      <td>McDonald's</td>\n",
       "      <td>Fast food restaurant</td>\n",
       "      <td>13749 US-183 Hwy, Austin, TX 78750, United States</td>\n",
       "      <td>30.460718</td>\n",
       "      <td>-97.792874</td>\n",
       "      <td>1,240</td>\n",
       "      <td>2 months ago</td>\n",
       "      <td>repeat order 3 time drive thru still manag mes...</td>\n",
       "      <td>1 star</td>\n",
       "    </tr>\n",
       "  </tbody>\n",
       "</table>\n",
       "</div>"
      ],
      "text/plain": [
       "   reviewer_id  store_name              category  \\\n",
       "0            1  McDonald's  Fast food restaurant   \n",
       "1            2  McDonald's  Fast food restaurant   \n",
       "2            3  McDonald's  Fast food restaurant   \n",
       "3            4  McDonald's  Fast food restaurant   \n",
       "4            5  McDonald's  Fast food restaurant   \n",
       "\n",
       "                                       store_address  latitude   longitude  \\\n",
       "0  13749 US-183 Hwy, Austin, TX 78750, United States  30.460718 -97.792874   \n",
       "1  13749 US-183 Hwy, Austin, TX 78750, United States  30.460718 -97.792874   \n",
       "2  13749 US-183 Hwy, Austin, TX 78750, United States  30.460718 -97.792874   \n",
       "3  13749 US-183 Hwy, Austin, TX 78750, United States  30.460718 -97.792874   \n",
       "4  13749 US-183 Hwy, Austin, TX 78750, United States  30.460718 -97.792874   \n",
       "\n",
       "  rating_count   review_time  \\\n",
       "0        1,240  3 months ago   \n",
       "1        1,240    5 days ago   \n",
       "2        1,240    5 days ago   \n",
       "3        1,240   a month ago   \n",
       "4        1,240  2 months ago   \n",
       "\n",
       "                                              review   rating  \n",
       "0  look like someon spit food normal transact eve...   1 star  \n",
       "1  itd mcdonald far food atmospher go staff make ...  4 stars  \n",
       "2  made mobil order got speaker check line move l...   1 star  \n",
       "3  mc crispi chicken sandwich ï¿½ï¿½ï¿½ï¿½ï¿½ï¿½ï...  5 stars  \n",
       "4  repeat order 3 time drive thru still manag mes...   1 star  "
      ]
     },
     "execution_count": 30,
     "metadata": {},
     "output_type": "execute_result"
    }
   ],
   "source": [
    "df.head(5)"
   ]
  },
  {
   "cell_type": "code",
   "execution_count": 31,
   "id": "f0ce8739",
   "metadata": {},
   "outputs": [],
   "source": [
    "df['review']=df['review'].str.replace('ï¿½',\"\")"
   ]
  },
  {
   "cell_type": "code",
   "execution_count": 32,
   "id": "d6cc52af",
   "metadata": {},
   "outputs": [
    {
     "data": {
      "text/plain": [
       "0    look like someon spit food normal transact eve...\n",
       "1    itd mcdonald far food atmospher go staff make ...\n",
       "2    made mobil order got speaker check line move l...\n",
       "3    mc crispi chicken sandwich  custom servic quick p\n",
       "4    repeat order 3 time drive thru still manag mes...\n",
       "Name: review, dtype: object"
      ]
     },
     "execution_count": 32,
     "metadata": {},
     "output_type": "execute_result"
    }
   ],
   "source": [
    "df['review'].head(5)"
   ]
  },
  {
   "cell_type": "markdown",
   "id": "8f313651",
   "metadata": {},
   "source": [
    "# VADER Sentiment Analysis\n",
    "\n",
    "This technique is used to create a new column based on sentiments as Positive, Negative or Neutral."
   ]
  },
  {
   "cell_type": "code",
   "execution_count": 33,
   "id": "5914f0ee",
   "metadata": {},
   "outputs": [],
   "source": [
    "from nltk.sentiment import SentimentIntensityAnalyzer\n",
    "from tqdm.notebook import tqdm"
   ]
  },
  {
   "cell_type": "code",
   "execution_count": 34,
   "id": "fbdd55f4",
   "metadata": {},
   "outputs": [
    {
     "name": "stderr",
     "output_type": "stream",
     "text": [
      "[nltk_data] Downloading package vader_lexicon to\n",
      "[nltk_data]     C:\\Users\\ws\\AppData\\Roaming\\nltk_data...\n",
      "[nltk_data]   Package vader_lexicon is already up-to-date!\n"
     ]
    }
   ],
   "source": [
    "nltk.download('vader_lexicon')\n",
    "sa=SentimentIntensityAnalyzer()"
   ]
  },
  {
   "cell_type": "code",
   "execution_count": 35,
   "id": "f1e94b38",
   "metadata": {},
   "outputs": [
    {
     "data": {
      "application/vnd.jupyter.widget-view+json": {
       "model_id": "1d2b47f42db24dc9925e0addfd580dc4",
       "version_major": 2,
       "version_minor": 0
      },
      "text/plain": [
       "  0%|          | 0/10000 [00:00<?, ?it/s]"
      ]
     },
     "metadata": {},
     "output_type": "display_data"
    }
   ],
   "source": [
    "res={}\n",
    "for i,row in tqdm(df.iterrows(),total=len(df)):\n",
    "    text=row['review']\n",
    "    my_id=row['reviewer_id']\n",
    "    res[my_id]=sa.polarity_scores(text)"
   ]
  },
  {
   "cell_type": "code",
   "execution_count": 36,
   "id": "a19ab74f",
   "metadata": {},
   "outputs": [],
   "source": [
    "vader=pd.DataFrame(res).T"
   ]
  },
  {
   "cell_type": "code",
   "execution_count": 37,
   "id": "a5af9fcd",
   "metadata": {},
   "outputs": [
    {
     "data": {
      "text/html": [
       "<div>\n",
       "<style scoped>\n",
       "    .dataframe tbody tr th:only-of-type {\n",
       "        vertical-align: middle;\n",
       "    }\n",
       "\n",
       "    .dataframe tbody tr th {\n",
       "        vertical-align: top;\n",
       "    }\n",
       "\n",
       "    .dataframe thead th {\n",
       "        text-align: right;\n",
       "    }\n",
       "</style>\n",
       "<table border=\"1\" class=\"dataframe\">\n",
       "  <thead>\n",
       "    <tr style=\"text-align: right;\">\n",
       "      <th></th>\n",
       "      <th>reviewer_id</th>\n",
       "      <th>neg</th>\n",
       "      <th>neu</th>\n",
       "      <th>pos</th>\n",
       "      <th>compound</th>\n",
       "    </tr>\n",
       "  </thead>\n",
       "  <tbody>\n",
       "    <tr>\n",
       "      <th>0</th>\n",
       "      <td>1</td>\n",
       "      <td>0.047</td>\n",
       "      <td>0.769</td>\n",
       "      <td>0.184</td>\n",
       "      <td>0.5541</td>\n",
       "    </tr>\n",
       "    <tr>\n",
       "      <th>1</th>\n",
       "      <td>2</td>\n",
       "      <td>0.000</td>\n",
       "      <td>0.756</td>\n",
       "      <td>0.244</td>\n",
       "      <td>0.7003</td>\n",
       "    </tr>\n",
       "    <tr>\n",
       "      <th>2</th>\n",
       "      <td>3</td>\n",
       "      <td>0.059</td>\n",
       "      <td>0.941</td>\n",
       "      <td>0.000</td>\n",
       "      <td>-0.2500</td>\n",
       "    </tr>\n",
       "    <tr>\n",
       "      <th>3</th>\n",
       "      <td>4</td>\n",
       "      <td>0.000</td>\n",
       "      <td>1.000</td>\n",
       "      <td>0.000</td>\n",
       "      <td>0.0000</td>\n",
       "    </tr>\n",
       "    <tr>\n",
       "      <th>4</th>\n",
       "      <td>5</td>\n",
       "      <td>0.200</td>\n",
       "      <td>0.800</td>\n",
       "      <td>0.000</td>\n",
       "      <td>-0.7184</td>\n",
       "    </tr>\n",
       "    <tr>\n",
       "      <th>...</th>\n",
       "      <td>...</td>\n",
       "      <td>...</td>\n",
       "      <td>...</td>\n",
       "      <td>...</td>\n",
       "      <td>...</td>\n",
       "    </tr>\n",
       "    <tr>\n",
       "      <th>9995</th>\n",
       "      <td>9996</td>\n",
       "      <td>0.000</td>\n",
       "      <td>0.000</td>\n",
       "      <td>1.000</td>\n",
       "      <td>0.4404</td>\n",
       "    </tr>\n",
       "    <tr>\n",
       "      <th>9996</th>\n",
       "      <td>9997</td>\n",
       "      <td>0.000</td>\n",
       "      <td>0.000</td>\n",
       "      <td>1.000</td>\n",
       "      <td>0.4588</td>\n",
       "    </tr>\n",
       "    <tr>\n",
       "      <th>9997</th>\n",
       "      <td>9998</td>\n",
       "      <td>0.000</td>\n",
       "      <td>1.000</td>\n",
       "      <td>0.000</td>\n",
       "      <td>0.0000</td>\n",
       "    </tr>\n",
       "    <tr>\n",
       "      <th>9998</th>\n",
       "      <td>9999</td>\n",
       "      <td>0.000</td>\n",
       "      <td>1.000</td>\n",
       "      <td>0.000</td>\n",
       "      <td>0.0000</td>\n",
       "    </tr>\n",
       "    <tr>\n",
       "      <th>9999</th>\n",
       "      <td>10000</td>\n",
       "      <td>0.000</td>\n",
       "      <td>1.000</td>\n",
       "      <td>0.000</td>\n",
       "      <td>0.0000</td>\n",
       "    </tr>\n",
       "  </tbody>\n",
       "</table>\n",
       "<p>10000 rows × 5 columns</p>\n",
       "</div>"
      ],
      "text/plain": [
       "      reviewer_id    neg    neu    pos  compound\n",
       "0               1  0.047  0.769  0.184    0.5541\n",
       "1               2  0.000  0.756  0.244    0.7003\n",
       "2               3  0.059  0.941  0.000   -0.2500\n",
       "3               4  0.000  1.000  0.000    0.0000\n",
       "4               5  0.200  0.800  0.000   -0.7184\n",
       "...           ...    ...    ...    ...       ...\n",
       "9995         9996  0.000  0.000  1.000    0.4404\n",
       "9996         9997  0.000  0.000  1.000    0.4588\n",
       "9997         9998  0.000  1.000  0.000    0.0000\n",
       "9998         9999  0.000  1.000  0.000    0.0000\n",
       "9999        10000  0.000  1.000  0.000    0.0000\n",
       "\n",
       "[10000 rows x 5 columns]"
      ]
     },
     "execution_count": 37,
     "metadata": {},
     "output_type": "execute_result"
    }
   ],
   "source": [
    "vader=vader.reset_index().rename(columns={'index':'reviewer_id'})\n",
    "vader"
   ]
  },
  {
   "cell_type": "code",
   "execution_count": 38,
   "id": "793b2fde",
   "metadata": {},
   "outputs": [
    {
     "data": {
      "text/html": [
       "<div>\n",
       "<style scoped>\n",
       "    .dataframe tbody tr th:only-of-type {\n",
       "        vertical-align: middle;\n",
       "    }\n",
       "\n",
       "    .dataframe tbody tr th {\n",
       "        vertical-align: top;\n",
       "    }\n",
       "\n",
       "    .dataframe thead th {\n",
       "        text-align: right;\n",
       "    }\n",
       "</style>\n",
       "<table border=\"1\" class=\"dataframe\">\n",
       "  <thead>\n",
       "    <tr style=\"text-align: right;\">\n",
       "      <th></th>\n",
       "      <th>reviewer_id</th>\n",
       "      <th>neg</th>\n",
       "      <th>neu</th>\n",
       "      <th>pos</th>\n",
       "      <th>compound</th>\n",
       "      <th>store_name</th>\n",
       "      <th>category</th>\n",
       "      <th>store_address</th>\n",
       "      <th>latitude</th>\n",
       "      <th>longitude</th>\n",
       "      <th>rating_count</th>\n",
       "      <th>review_time</th>\n",
       "      <th>review</th>\n",
       "      <th>rating</th>\n",
       "    </tr>\n",
       "  </thead>\n",
       "  <tbody>\n",
       "    <tr>\n",
       "      <th>0</th>\n",
       "      <td>1</td>\n",
       "      <td>0.047</td>\n",
       "      <td>0.769</td>\n",
       "      <td>0.184</td>\n",
       "      <td>0.5541</td>\n",
       "      <td>McDonald's</td>\n",
       "      <td>Fast food restaurant</td>\n",
       "      <td>13749 US-183 Hwy, Austin, TX 78750, United States</td>\n",
       "      <td>30.460718</td>\n",
       "      <td>-97.792874</td>\n",
       "      <td>1,240</td>\n",
       "      <td>3 months ago</td>\n",
       "      <td>look like someon spit food normal transact eve...</td>\n",
       "      <td>1 star</td>\n",
       "    </tr>\n",
       "    <tr>\n",
       "      <th>1</th>\n",
       "      <td>2</td>\n",
       "      <td>0.000</td>\n",
       "      <td>0.756</td>\n",
       "      <td>0.244</td>\n",
       "      <td>0.7003</td>\n",
       "      <td>McDonald's</td>\n",
       "      <td>Fast food restaurant</td>\n",
       "      <td>13749 US-183 Hwy, Austin, TX 78750, United States</td>\n",
       "      <td>30.460718</td>\n",
       "      <td>-97.792874</td>\n",
       "      <td>1,240</td>\n",
       "      <td>5 days ago</td>\n",
       "      <td>itd mcdonald far food atmospher go staff make ...</td>\n",
       "      <td>4 stars</td>\n",
       "    </tr>\n",
       "    <tr>\n",
       "      <th>2</th>\n",
       "      <td>3</td>\n",
       "      <td>0.059</td>\n",
       "      <td>0.941</td>\n",
       "      <td>0.000</td>\n",
       "      <td>-0.2500</td>\n",
       "      <td>McDonald's</td>\n",
       "      <td>Fast food restaurant</td>\n",
       "      <td>13749 US-183 Hwy, Austin, TX 78750, United States</td>\n",
       "      <td>30.460718</td>\n",
       "      <td>-97.792874</td>\n",
       "      <td>1,240</td>\n",
       "      <td>5 days ago</td>\n",
       "      <td>made mobil order got speaker check line move l...</td>\n",
       "      <td>1 star</td>\n",
       "    </tr>\n",
       "    <tr>\n",
       "      <th>3</th>\n",
       "      <td>4</td>\n",
       "      <td>0.000</td>\n",
       "      <td>1.000</td>\n",
       "      <td>0.000</td>\n",
       "      <td>0.0000</td>\n",
       "      <td>McDonald's</td>\n",
       "      <td>Fast food restaurant</td>\n",
       "      <td>13749 US-183 Hwy, Austin, TX 78750, United States</td>\n",
       "      <td>30.460718</td>\n",
       "      <td>-97.792874</td>\n",
       "      <td>1,240</td>\n",
       "      <td>a month ago</td>\n",
       "      <td>mc crispi chicken sandwich  custom servic quick p</td>\n",
       "      <td>5 stars</td>\n",
       "    </tr>\n",
       "    <tr>\n",
       "      <th>4</th>\n",
       "      <td>5</td>\n",
       "      <td>0.200</td>\n",
       "      <td>0.800</td>\n",
       "      <td>0.000</td>\n",
       "      <td>-0.7184</td>\n",
       "      <td>McDonald's</td>\n",
       "      <td>Fast food restaurant</td>\n",
       "      <td>13749 US-183 Hwy, Austin, TX 78750, United States</td>\n",
       "      <td>30.460718</td>\n",
       "      <td>-97.792874</td>\n",
       "      <td>1,240</td>\n",
       "      <td>2 months ago</td>\n",
       "      <td>repeat order 3 time drive thru still manag mes...</td>\n",
       "      <td>1 star</td>\n",
       "    </tr>\n",
       "    <tr>\n",
       "      <th>...</th>\n",
       "      <td>...</td>\n",
       "      <td>...</td>\n",
       "      <td>...</td>\n",
       "      <td>...</td>\n",
       "      <td>...</td>\n",
       "      <td>...</td>\n",
       "      <td>...</td>\n",
       "      <td>...</td>\n",
       "      <td>...</td>\n",
       "      <td>...</td>\n",
       "      <td>...</td>\n",
       "      <td>...</td>\n",
       "      <td>...</td>\n",
       "      <td>...</td>\n",
       "    </tr>\n",
       "    <tr>\n",
       "      <th>9995</th>\n",
       "      <td>9996</td>\n",
       "      <td>0.000</td>\n",
       "      <td>0.000</td>\n",
       "      <td>1.000</td>\n",
       "      <td>0.4404</td>\n",
       "      <td>McDonald's</td>\n",
       "      <td>Fast food restaurant</td>\n",
       "      <td>1916 M St NW, Washington, DC 20036, United States</td>\n",
       "      <td>38.905456</td>\n",
       "      <td>-77.044235</td>\n",
       "      <td>1,269</td>\n",
       "      <td>4 years ago</td>\n",
       "      <td>good</td>\n",
       "      <td>4 stars</td>\n",
       "    </tr>\n",
       "    <tr>\n",
       "      <th>9996</th>\n",
       "      <td>9997</td>\n",
       "      <td>0.000</td>\n",
       "      <td>0.000</td>\n",
       "      <td>1.000</td>\n",
       "      <td>0.4588</td>\n",
       "      <td>McDonald's</td>\n",
       "      <td>Fast food restaurant</td>\n",
       "      <td>1916 M St NW, Washington, DC 20036, United States</td>\n",
       "      <td>38.905456</td>\n",
       "      <td>-77.044235</td>\n",
       "      <td>1,269</td>\n",
       "      <td>3 years ago</td>\n",
       "      <td>excel</td>\n",
       "      <td>5 stars</td>\n",
       "    </tr>\n",
       "    <tr>\n",
       "      <th>9997</th>\n",
       "      <td>9998</td>\n",
       "      <td>0.000</td>\n",
       "      <td>1.000</td>\n",
       "      <td>0.000</td>\n",
       "      <td>0.0000</td>\n",
       "      <td>McDonald's</td>\n",
       "      <td>Fast food restaurant</td>\n",
       "      <td>1916 M St NW, Washington, DC 20036, United States</td>\n",
       "      <td>38.905456</td>\n",
       "      <td>-77.044235</td>\n",
       "      <td>1,269</td>\n",
       "      <td>3 years ago</td>\n",
       "      <td>terribl</td>\n",
       "      <td>1 star</td>\n",
       "    </tr>\n",
       "    <tr>\n",
       "      <th>9998</th>\n",
       "      <td>9999</td>\n",
       "      <td>0.000</td>\n",
       "      <td>1.000</td>\n",
       "      <td>0.000</td>\n",
       "      <td>0.0000</td>\n",
       "      <td>McDonald's</td>\n",
       "      <td>Fast food restaurant</td>\n",
       "      <td>1916 M St NW, Washington, DC 20036, United States</td>\n",
       "      <td>38.905456</td>\n",
       "      <td>-77.044235</td>\n",
       "      <td>1,269</td>\n",
       "      <td>5 years ago</td>\n",
       "      <td>neutral</td>\n",
       "      <td>3 stars</td>\n",
       "    </tr>\n",
       "    <tr>\n",
       "      <th>9999</th>\n",
       "      <td>10000</td>\n",
       "      <td>0.000</td>\n",
       "      <td>1.000</td>\n",
       "      <td>0.000</td>\n",
       "      <td>0.0000</td>\n",
       "      <td>McDonald's</td>\n",
       "      <td>Fast food restaurant</td>\n",
       "      <td>1916 M St NW, Washington, DC 20036, United States</td>\n",
       "      <td>38.905456</td>\n",
       "      <td>-77.044235</td>\n",
       "      <td>1,269</td>\n",
       "      <td>6 years ago</td>\n",
       "      <td>neutral</td>\n",
       "      <td>3 stars</td>\n",
       "    </tr>\n",
       "  </tbody>\n",
       "</table>\n",
       "<p>10000 rows × 14 columns</p>\n",
       "</div>"
      ],
      "text/plain": [
       "      reviewer_id    neg    neu    pos  compound  store_name  \\\n",
       "0               1  0.047  0.769  0.184    0.5541  McDonald's   \n",
       "1               2  0.000  0.756  0.244    0.7003  McDonald's   \n",
       "2               3  0.059  0.941  0.000   -0.2500  McDonald's   \n",
       "3               4  0.000  1.000  0.000    0.0000  McDonald's   \n",
       "4               5  0.200  0.800  0.000   -0.7184  McDonald's   \n",
       "...           ...    ...    ...    ...       ...         ...   \n",
       "9995         9996  0.000  0.000  1.000    0.4404  McDonald's   \n",
       "9996         9997  0.000  0.000  1.000    0.4588  McDonald's   \n",
       "9997         9998  0.000  1.000  0.000    0.0000  McDonald's   \n",
       "9998         9999  0.000  1.000  0.000    0.0000  McDonald's   \n",
       "9999        10000  0.000  1.000  0.000    0.0000  McDonald's   \n",
       "\n",
       "                  category                                      store_address  \\\n",
       "0     Fast food restaurant  13749 US-183 Hwy, Austin, TX 78750, United States   \n",
       "1     Fast food restaurant  13749 US-183 Hwy, Austin, TX 78750, United States   \n",
       "2     Fast food restaurant  13749 US-183 Hwy, Austin, TX 78750, United States   \n",
       "3     Fast food restaurant  13749 US-183 Hwy, Austin, TX 78750, United States   \n",
       "4     Fast food restaurant  13749 US-183 Hwy, Austin, TX 78750, United States   \n",
       "...                    ...                                                ...   \n",
       "9995  Fast food restaurant  1916 M St NW, Washington, DC 20036, United States   \n",
       "9996  Fast food restaurant  1916 M St NW, Washington, DC 20036, United States   \n",
       "9997  Fast food restaurant  1916 M St NW, Washington, DC 20036, United States   \n",
       "9998  Fast food restaurant  1916 M St NW, Washington, DC 20036, United States   \n",
       "9999  Fast food restaurant  1916 M St NW, Washington, DC 20036, United States   \n",
       "\n",
       "      latitude   longitude rating_count   review_time  \\\n",
       "0     30.460718 -97.792874        1,240  3 months ago   \n",
       "1     30.460718 -97.792874        1,240    5 days ago   \n",
       "2     30.460718 -97.792874        1,240    5 days ago   \n",
       "3     30.460718 -97.792874        1,240   a month ago   \n",
       "4     30.460718 -97.792874        1,240  2 months ago   \n",
       "...         ...        ...          ...           ...   \n",
       "9995  38.905456 -77.044235        1,269   4 years ago   \n",
       "9996  38.905456 -77.044235        1,269   3 years ago   \n",
       "9997  38.905456 -77.044235        1,269   3 years ago   \n",
       "9998  38.905456 -77.044235        1,269   5 years ago   \n",
       "9999  38.905456 -77.044235        1,269   6 years ago   \n",
       "\n",
       "                                                 review   rating  \n",
       "0     look like someon spit food normal transact eve...   1 star  \n",
       "1     itd mcdonald far food atmospher go staff make ...  4 stars  \n",
       "2     made mobil order got speaker check line move l...   1 star  \n",
       "3     mc crispi chicken sandwich  custom servic quick p  5 stars  \n",
       "4     repeat order 3 time drive thru still manag mes...   1 star  \n",
       "...                                                 ...      ...  \n",
       "9995                                               good  4 stars  \n",
       "9996                                              excel  5 stars  \n",
       "9997                                            terribl   1 star  \n",
       "9998                                            neutral  3 stars  \n",
       "9999                                            neutral  3 stars  \n",
       "\n",
       "[10000 rows x 14 columns]"
      ]
     },
     "execution_count": 38,
     "metadata": {},
     "output_type": "execute_result"
    }
   ],
   "source": [
    "vader=vader.merge(df,how='left')\n",
    "vader"
   ]
  },
  {
   "cell_type": "markdown",
   "id": "0fdac13b",
   "metadata": {},
   "source": [
    "## Simple Exploratory Data Analysis"
   ]
  },
  {
   "cell_type": "code",
   "execution_count": 39,
   "id": "b269222e",
   "metadata": {},
   "outputs": [
    {
     "data": {
      "image/png": "[encoded data removed]",
      "text/plain": [
       "<Figure size 640x480 with 1 Axes>"
      ]
     },
     "metadata": {},
     "output_type": "display_data"
    }
   ],
   "source": [
    "vader_sorted=vader.sort_values(by='rating')\n",
    "pl=sns.barplot(data=vader_sorted,x='rating',y='compound')\n",
    "pl.set_title('Compound score by McDonald Star Review')\n",
    "plt.show()"
   ]
  },
  {
   "cell_type": "code",
   "execution_count": 40,
   "id": "5409a750",
   "metadata": {},
   "outputs": [],
   "source": [
    "# Define the conditions and corresponding replacement strings\n",
    "conditions = [\n",
    "    vader['compound'] <=-0.05,\n",
    "    (vader['compound'] >-0.05) & (vader['compound'] <0.05),\n",
    "    vader['compound'] >= 0.05\n",
    "]\n",
    "\n",
    "replacement_strings = ['Negative', 'Neutral', 'Positive']\n",
    "# Use numpy.select to replace values based on the conditions\n",
    "vader['compound'] = np.select(conditions, replacement_strings, default='Unknown')\n"
   ]
  },
  {
   "cell_type": "code",
   "execution_count": 41,
   "id": "95b6d182",
   "metadata": {},
   "outputs": [
    {
     "data": {
      "text/plain": [
       "compound\n",
       "Positive    5347\n",
       "Neutral     2810\n",
       "Negative    1843\n",
       "Name: count, dtype: int64"
      ]
     },
     "execution_count": 41,
     "metadata": {},
     "output_type": "execute_result"
    }
   ],
   "source": [
    "vader['compound'].value_counts()"
   ]
  },
  {
   "cell_type": "code",
   "execution_count": 42,
   "id": "b3576bd2",
   "metadata": {},
   "outputs": [],
   "source": [
    "X=vader['review']\n",
    "y=vader['compound']"
   ]
  },
  {
   "cell_type": "code",
   "execution_count": 43,
   "id": "610dbb19",
   "metadata": {},
   "outputs": [],
   "source": [
    "from sklearn.model_selection import train_test_split\n",
    "from sklearn.feature_extraction.text import TfidfVectorizer,CountVectorizer\n",
    "from sklearn.svm import SVC\n",
    "from sklearn.naive_bayes import GaussianNB\n",
    "from sklearn.metrics import accuracy_score,classification_report"
   ]
  },
  {
   "cell_type": "markdown",
   "id": "e04090bb",
   "metadata": {},
   "source": [
    "## Text Vectorization \n",
    "This technique is used to convert text/sequence of data to meaningful numbers which represents sentiments/emotions."
   ]
  },
  {
   "cell_type": "code",
   "execution_count": 44,
   "id": "30c082d1",
   "metadata": {},
   "outputs": [],
   "source": [
    "vectorizer = CountVectorizer()\n",
    "X = vectorizer.fit_transform(X).toarray()"
   ]
  },
  {
   "cell_type": "markdown",
   "id": "e9cca462",
   "metadata": {},
   "source": [
    "## Split the data into training set and test set"
   ]
  },
  {
   "cell_type": "code",
   "execution_count": 45,
   "id": "068dd7ff",
   "metadata": {},
   "outputs": [],
   "source": [
    "X_train, X_test, y_train, y_test = train_test_split(X, y, test_size=0.2, random_state=42)"
   ]
  },
  {
   "cell_type": "code",
   "execution_count": 46,
   "id": "050abf1b",
   "metadata": {},
   "outputs": [
    {
     "data": {
      "text/plain": [
       "array([[0, 0, 0, ..., 0, 0, 0],\n",
       "       [0, 0, 0, ..., 0, 0, 0],\n",
       "       [0, 0, 0, ..., 0, 0, 0],\n",
       "       ...,\n",
       "       [0, 0, 0, ..., 0, 0, 0],\n",
       "       [0, 0, 0, ..., 0, 0, 0],\n",
       "       [0, 0, 0, ..., 0, 0, 0]], dtype=int64)"
      ]
     },
     "execution_count": 46,
     "metadata": {},
     "output_type": "execute_result"
    }
   ],
   "source": [
    "X_train"
   ]
  },
  {
   "cell_type": "code",
   "execution_count": 47,
   "id": "ab2e1bd9",
   "metadata": {},
   "outputs": [],
   "source": [
    "model1 = SVC()\n",
    "model2=GaussianNB()"
   ]
  },
  {
   "cell_type": "markdown",
   "id": "0b41b666",
   "metadata": {},
   "source": [
    "## Training the model on the Training set"
   ]
  },
  {
   "cell_type": "code",
   "execution_count": 48,
   "id": "019d9e0b",
   "metadata": {},
   "outputs": [
    {
     "data": {
      "text/html": [
       "<style>#sk-container-id-1 {color: black;background-color: white;}#sk-container-id-1 pre{padding: 0;}#sk-container-id-1 div.sk-toggleable {background-color: white;}#sk-container-id-1 label.sk-toggleable__label {cursor: pointer;display: block;width: 100%;margin-bottom: 0;padding: 0.3em;box-sizing: border-box;text-align: center;}#sk-container-id-1 label.sk-toggleable__label-arrow:before {content: \"▸\";float: left;margin-right: 0.25em;color: #696969;}#sk-container-id-1 label.sk-toggleable__label-arrow:hover:before {color: black;}#sk-container-id-1 div.sk-estimator:hover label.sk-toggleable__label-arrow:before {color: black;}#sk-container-id-1 div.sk-toggleable__content {max-height: 0;max-width: 0;overflow: hidden;text-align: left;background-color: #f0f8ff;}#sk-container-id-1 div.sk-toggleable__content pre {margin: 0.2em;color: black;border-radius: 0.25em;background-color: #f0f8ff;}#sk-container-id-1 input.sk-toggleable__control:checked~div.sk-toggleable__content {max-height: 200px;max-width: 100%;overflow: auto;}#sk-container-id-1 input.sk-toggleable__control:checked~label.sk-toggleable__label-arrow:before {content: \"▾\";}#sk-container-id-1 div.sk-estimator input.sk-toggleable__control:checked~label.sk-toggleable__label {background-color: #d4ebff;}#sk-container-id-1 div.sk-label input.sk-toggleable__control:checked~label.sk-toggleable__label {background-color: #d4ebff;}#sk-container-id-1 input.sk-hidden--visually {border: 0;clip: rect(1px 1px 1px 1px);clip: rect(1px, 1px, 1px, 1px);height: 1px;margin: -1px;overflow: hidden;padding: 0;position: absolute;width: 1px;}#sk-container-id-1 div.sk-estimator {font-family: monospace;background-color: #f0f8ff;border: 1px dotted black;border-radius: 0.25em;box-sizing: border-box;margin-bottom: 0.5em;}#sk-container-id-1 div.sk-estimator:hover {background-color: #d4ebff;}#sk-container-id-1 div.sk-parallel-item::after {content: \"\";width: 100%;border-bottom: 1px solid gray;flex-grow: 1;}#sk-container-id-1 div.sk-label:hover label.sk-toggleable__label {background-color: #d4ebff;}#sk-container-id-1 div.sk-serial::before {content: \"\";position: absolute;border-left: 1px solid gray;box-sizing: border-box;top: 0;bottom: 0;left: 50%;z-index: 0;}#sk-container-id-1 div.sk-serial {display: flex;flex-direction: column;align-items: center;background-color: white;padding-right: 0.2em;padding-left: 0.2em;position: relative;}#sk-container-id-1 div.sk-item {position: relative;z-index: 1;}#sk-container-id-1 div.sk-parallel {display: flex;align-items: stretch;justify-content: center;background-color: white;position: relative;}#sk-container-id-1 div.sk-item::before, #sk-container-id-1 div.sk-parallel-item::before {content: \"\";position: absolute;border-left: 1px solid gray;box-sizing: border-box;top: 0;bottom: 0;left: 50%;z-index: -1;}#sk-container-id-1 div.sk-parallel-item {display: flex;flex-direction: column;z-index: 1;position: relative;background-color: white;}#sk-container-id-1 div.sk-parallel-item:first-child::after {align-self: flex-end;width: 50%;}#sk-container-id-1 div.sk-parallel-item:last-child::after {align-self: flex-start;width: 50%;}#sk-container-id-1 div.sk-parallel-item:only-child::after {width: 0;}#sk-container-id-1 div.sk-dashed-wrapped {border: 1px dashed gray;margin: 0 0.4em 0.5em 0.4em;box-sizing: border-box;padding-bottom: 0.4em;background-color: white;}#sk-container-id-1 div.sk-label label {font-family: monospace;font-weight: bold;display: inline-block;line-height: 1.2em;}#sk-container-id-1 div.sk-label-container {text-align: center;}#sk-container-id-1 div.sk-container {/* jupyter's `normalize.less` sets `[hidden] { display: none; }` but bootstrap.min.css set `[hidden] { display: none !important; }` so we also need the `!important` here to be able to override the default hidden behavior on the sphinx rendered scikit-learn.org. See: https://github.com/scikit-learn/scikit-learn/issues/21755 */display: inline-block !important;position: relative;}#sk-container-id-1 div.sk-text-repr-fallback {display: none;}</style><div id=\"sk-container-id-1\" class=\"sk-top-container\"><div class=\"sk-text-repr-fallback\"><pre>GaussianNB()</pre><b>In a Jupyter environment, please rerun this cell to show the HTML representation or trust the notebook. <br />On GitHub, the HTML representation is unable to render, please try loading this page with nbviewer.org.</b></div><div class=\"sk-container\" hidden><div class=\"sk-item\"><div class=\"sk-estimator sk-toggleable\"><input class=\"sk-toggleable__control sk-hidden--visually\" id=\"sk-estimator-id-1\" type=\"checkbox\" checked><label for=\"sk-estimator-id-1\" class=\"sk-toggleable__label sk-toggleable__label-arrow\">GaussianNB</label><div class=\"sk-toggleable__content\"><pre>GaussianNB()</pre></div></div></div></div></div>"
      ],
      "text/plain": [
       "GaussianNB()"
      ]
     },
     "execution_count": 48,
     "metadata": {},
     "output_type": "execute_result"
    }
   ],
   "source": [
    "model1.fit(X_train, y_train)\n",
    "model2.fit(X_train,y_train)"
   ]
  },
  {
   "cell_type": "code",
   "execution_count": 49,
   "id": "63db1870",
   "metadata": {},
   "outputs": [
    {
     "name": "stdout",
     "output_type": "stream",
     "text": [
      "['Positive' 'Positive' 'Negative' ... 'Positive' 'Neutral' 'Neutral']\n",
      "['Neutral' 'Neutral' 'Neutral' ... 'Negative' 'Neutral' 'Neutral']\n"
     ]
    }
   ],
   "source": [
    "y_pred1=model1.predict(X_test)\n",
    "y_pred2=model2.predict(X_test)\n",
    "print(y_pred1)\n",
    "print(y_pred2)"
   ]
  },
  {
   "cell_type": "code",
   "execution_count": 50,
   "id": "c2f9c27d",
   "metadata": {},
   "outputs": [
    {
     "name": "stdout",
     "output_type": "stream",
     "text": [
      "SVM 0.8715\n",
      "Naive Bayes 0.369\n"
     ]
    }
   ],
   "source": [
    "print(\"SVM\",accuracy_score(y_test,y_pred1))\n",
    "print(\"Naive Bayes\",accuracy_score(y_test,y_pred2))"
   ]
  },
  {
   "cell_type": "markdown",
   "id": "5ff5834e",
   "metadata": {},
   "source": [
    "SVM is showing better performance compared with Naive Bayes. (Try some other Algorithms like Random Forest and variations of Naive Bayes such as MultinomialNB, BernoulliNB.)"
   ]
  },
  {
   "cell_type": "markdown",
   "id": "c159bf37",
   "metadata": {},
   "source": [
    "## Predicting results for Review Examples\n",
    "\n",
    "### 1.Using SVM"
   ]
  },
  {
   "cell_type": "code",
   "execution_count": 51,
   "id": "2c2bee1f",
   "metadata": {},
   "outputs": [],
   "source": [
    "def predict_sentiment(review):\n",
    "    review_trans=vectorizer.transform([review]).toarray()\n",
    "    sentiment=model1.predict(review_trans)\n",
    "    return sentiment"
   ]
  },
  {
   "cell_type": "code",
   "execution_count": 52,
   "id": "67ce23b3",
   "metadata": {},
   "outputs": [
    {
     "name": "stdout",
     "output_type": "stream",
     "text": [
      "['Positive']\n"
     ]
    }
   ],
   "source": [
    "new_review='Good food'\n",
    "predict_sentiment=predict_sentiment(new_review)\n",
    "print(predict_sentiment)"
   ]
  },
  {
   "cell_type": "markdown",
   "id": "94f0a159",
   "metadata": {},
   "source": [
    "### 2. Using Naive Bayes"
   ]
  },
  {
   "cell_type": "code",
   "execution_count": 53,
   "id": "fa49282f",
   "metadata": {},
   "outputs": [],
   "source": [
    "def predict_sentiment(review):\n",
    "    review_trans=vectorizer.transform([review]).toarray()\n",
    "    sentiment=model2.predict(review_trans)\n",
    "    return sentiment"
   ]
  },
  {
   "cell_type": "code",
   "execution_count": 54,
   "id": "1a816100",
   "metadata": {},
   "outputs": [
    {
     "name": "stdout",
     "output_type": "stream",
     "text": [
      "['Neutral']\n"
     ]
    }
   ],
   "source": [
    "new_review='Good food'\n",
    "predict_sentiment=predict_sentiment(new_review)\n",
    "print(predict_sentiment)"
   ]
  },
  {
   "cell_type": "markdown",
   "id": "9ab701c9",
   "metadata": {},
   "source": [
    "### Coclusion: SVM is giving better prediction when compared with Naive Bayes. Sentiment Analysis can also be done using OpenAI GPT-3.5 and BERT models which accurately assess the emotional tone of text, enabling businesses to gain valuable insights into customer opinions and preferences."
   ]
  }
 ],
 "metadata": {
  "kernelspec": {
   "display_name": "myenvkernel",
   "language": "python",
   "name": "myenvkernel"
  },
  "language_info": {
   "codemirror_mode": {
    "name": "ipython",
    "version": 3
   },
   "file_extension": ".py",
   "mimetype": "text/x-python",
   "name": "python",
   "nbconvert_exporter": "python",
   "pygments_lexer": "ipython3",
   "version": "3.11.3"
  }
 },
 "nbformat": 4,
 "nbformat_minor": 5
}
